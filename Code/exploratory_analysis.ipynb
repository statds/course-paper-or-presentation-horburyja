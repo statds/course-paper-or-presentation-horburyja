{
 "cells": [
  {
   "cell_type": "code",
   "execution_count": null,
   "metadata": {},
   "outputs": [],
   "source": [
    "# import utility modules\n",
    "import numpy as np\n",
    "import pandas as pd \n",
    "import seaborn as sns\n",
    "import matplotlib.pyplot as plt \n",
    "from scipy import stats"
   ]
  },
  {
   "cell_type": "code",
   "execution_count": null,
   "metadata": {},
   "outputs": [],
   "source": [
    "# load niemann dataset\n",
    "df = pd.read_csv('../data/10480_games_with_centipawn_metrics.csv', index_col=0)"
   ]
  },
  {
   "cell_type": "markdown",
   "metadata": {},
   "source": [
    "Minor data cleaning"
   ]
  },
  {
   "cell_type": "code",
   "execution_count": null,
   "metadata": {},
   "outputs": [],
   "source": [
    "# dropping indexes of df with null values for white\n",
    "i = df[df['White Name'].isna()].index\n",
    "df = df.drop(i)\n",
    "\n",
    "# check missing data\n",
    "# df.isna().sum()"
   ]
  },
  {
   "cell_type": "code",
   "execution_count": null,
   "metadata": {},
   "outputs": [],
   "source": [
    "# drop unnecessary features\n",
    "df = df.drop(columns = ['PGN', 'White Expected Rating by ACPL', 'Black Expected Rating by ACPL'])\n",
    "# df.head()"
   ]
  },
  {
   "cell_type": "markdown",
   "metadata": {},
   "source": [
    "Data Analysis"
   ]
  },
  {
   "cell_type": "code",
   "execution_count": null,
   "metadata": {},
   "outputs": [],
   "source": [
    "# starting by looking at the statistics of the numerical values of df\n",
    "df.describe()"
   ]
  },
  {
   "cell_type": "code",
   "execution_count": null,
   "metadata": {},
   "outputs": [],
   "source": [
    "sns.lineplot(data=df, x=\"White ELO\", y=\"Black ELO\")"
   ]
  },
  {
   "cell_type": "code",
   "execution_count": null,
   "metadata": {},
   "outputs": [],
   "source": [
    "sns.lineplot(data=df, x=\"White ELO\", y=\"Moves\")\n",
    "sns.lineplot(data=df, x=\"Black ELO\", y=\"Moves\", alpha=0.4)"
   ]
  },
  {
   "cell_type": "code",
   "execution_count": null,
   "metadata": {},
   "outputs": [],
   "source": [
    "sns.histplot(df['White ELO'])\n",
    "sns.histplot(df['Black ELO'], alpha=0.4)"
   ]
  },
  {
   "cell_type": "code",
   "execution_count": null,
   "metadata": {},
   "outputs": [],
   "source": [
    "df_23 = df.copy()\n",
    "df_23 = df_23[df_23['White ELO'] > 2300]\n",
    "df_23 = df_23[df_23['Black ELO'] > 2300]"
   ]
  },
  {
   "cell_type": "code",
   "execution_count": null,
   "metadata": {},
   "outputs": [],
   "source": [
    "# Calculating the IQR-inner quartile range\n",
    "q3, q1 = np.percentile(df_23['White ELO'], [75 ,25])\n",
    "iqr = q3-q1\n",
    "iqr"
   ]
  },
  {
   "cell_type": "code",
   "execution_count": null,
   "metadata": {},
   "outputs": [],
   "source": [
    "bin_width = 2 * iqr / (len(df_23['White ELO']))**(1/3)\n",
    "bin_number = (max(df_23['White ELO']) - min(df_23['White ELO'])) / bin_width\n",
    "print (bin_number, bin_width)\n",
    "# using matplotlib.pyplots hist -plot to return list of bins \n",
    "bins = plt.hist(df_23['White ELO'], bins=int(bin_number))"
   ]
  },
  {
   "cell_type": "code",
   "execution_count": null,
   "metadata": {},
   "outputs": [],
   "source": [
    "df_23['Bin_White'] = pd.cut(x=df['White ELO'], bins=bins[1], include_lowest=True).map(lambda x: (x.left+x.right)/2)\n",
    "df_23['Bin_Black'] = pd.cut(x=df['Black ELO'], bins=bins[1], include_lowest=True).map(lambda x: (x.left+x.right)/2)"
   ]
  },
  {
   "cell_type": "code",
   "execution_count": null,
   "metadata": {},
   "outputs": [],
   "source": [
    "g = sns.lmplot(x='Bin_White', y='White Av CP Loss', x_estimator=np.mean, data=df_23, scatter_kws={'s':20})\n",
    "g.set(ylim=(0,60))"
   ]
  },
  {
   "cell_type": "code",
   "execution_count": null,
   "metadata": {},
   "outputs": [],
   "source": [
    "g = sns.lmplot(x='Bin_Black', y='Black Av CP Loss', x_estimator=np.mean, data=df_23, scatter_kws={'s':20})\n",
    "g.set(ylim=(0,60))"
   ]
  },
  {
   "cell_type": "markdown",
   "metadata": {},
   "source": [
    "Calculate linearity of ELO and ACPL"
   ]
  },
  {
   "cell_type": "code",
   "execution_count": null,
   "metadata": {},
   "outputs": [],
   "source": [
    "r1, p1 = stats.pearsonr(df_23['Bin_Black'], df_23['Black Av CP Loss'])\n",
    "r2, p2 = stats.pearsonr(df_23['Bin_White'], df_23['White Av CP Loss'])\n",
    "r1, r2, p1, p2"
   ]
  },
  {
   "cell_type": "code",
   "execution_count": null,
   "metadata": {},
   "outputs": [],
   "source": [
    "df['ELO_diff'] = df['White ELO']-df['Black ELO']\n",
    "acpl_higher = []\n",
    "acpl_lower = []\n",
    "for index, row in df.iterrows():\n",
    "    if row['ELO_diff'] >= 0:\n",
    "        acpl_higher.append(row['White Av CP Loss'])\n",
    "        acpl_lower.append(row['Black Av CP Loss'])\n",
    "    elif row['ELO_diff'] < 0:\n",
    "        acpl_lower.append(row['White Av CP Loss'])\n",
    "        acpl_higher.append(row['Black Av CP Loss'])\n",
    "\n",
    "print(f'The average CP loss of the higher rated player was {np.round(np.mean(acpl_higher),2)}, while the lower rated player had a CP loss of {np.round(np.mean(acpl_lower),2)}') "
   ]
  },
  {
   "cell_type": "code",
   "execution_count": null,
   "metadata": {},
   "outputs": [],
   "source": [
    "df['ACPL Lower'] = acpl_lower\n",
    "df['ACPL Higher'] = acpl_higher "
   ]
  },
  {
   "cell_type": "code",
   "execution_count": null,
   "metadata": {},
   "outputs": [],
   "source": [
    "g = sns.lineplot(data=df, x='ELO_diff', y='ACPL Higher')\n",
    "g.set(ylim=(0, 100), xlim=(-500, 500))\n",
    "g.set_title('Higher Rated Player')"
   ]
  },
  {
   "cell_type": "code",
   "execution_count": null,
   "metadata": {},
   "outputs": [],
   "source": [
    "g = sns.lineplot(data=df, x='ELO_diff', y='ACPL Lower')\n",
    "g.set(ylim=(0, 100), xlim=(-500, 500))\n",
    "g.set_title('Lower Rated Player')"
   ]
  }
 ],
 "metadata": {
  "kernelspec": {
   "display_name": "Python 3.10.2 64-bit",
   "language": "python",
   "name": "python3"
  },
  "language_info": {
   "codemirror_mode": {
    "name": "ipython",
    "version": 3
   },
   "file_extension": ".py",
   "mimetype": "text/x-python",
   "name": "python",
   "nbconvert_exporter": "python",
   "pygments_lexer": "ipython3",
   "version": "3.10.2"
  },
  "orig_nbformat": 4,
  "vscode": {
   "interpreter": {
    "hash": "413c54d42d867d78bc5693b88112002b4b75f03abc9fed1665b973f73c05d110"
   }
  }
 },
 "nbformat": 4,
 "nbformat_minor": 2
}
